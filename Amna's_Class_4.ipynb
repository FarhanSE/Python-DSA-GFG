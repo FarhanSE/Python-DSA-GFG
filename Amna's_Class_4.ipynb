{
  "nbformat": 4,
  "nbformat_minor": 0,
  "metadata": {
    "colab": {
      "provenance": [],
      "authorship_tag": "ABX9TyM9yloASX+8U51cGmvn62A6",
      "include_colab_link": true
    },
    "kernelspec": {
      "name": "python3",
      "display_name": "Python 3"
    },
    "language_info": {
      "name": "python"
    }
  },
  "cells": [
    {
      "cell_type": "markdown",
      "metadata": {
        "id": "view-in-github",
        "colab_type": "text"
      },
      "source": [
        "<a href=\"https://colab.research.google.com/github/FarhanSE/Python-DSA-GFG/blob/master/Amna's_Class_4.ipynb\" target=\"_parent\"><img src=\"https://colab.research.google.com/assets/colab-badge.svg\" alt=\"Open In Colab\"/></a>"
      ]
    },
    {
      "cell_type": "markdown",
      "source": [
        "# Pythagorean Triplet"
      ],
      "metadata": {
        "id": "BheTVG2-FDi5"
      }
    },
    {
      "cell_type": "code",
      "execution_count": null,
      "metadata": {
        "id": "SrItNe5XCKw3"
      },
      "outputs": [],
      "source": [
        "def solution(arr, a,b,c):\n",
        "   for i in range(len(arr)-2):\n",
        "     for j in range(i+1, len(arr)-1):\n",
        "       for k in range(j+1, len(arr)):\n",
        "         if a==arr[i] and b==arr[j] and c==arr[k]:\n",
        "           if a*2 + b*2 == c*2:\n",
        "             return True\n",
        "   return False"
      ]
    },
    {
      "cell_type": "code",
      "source": [
        "solution([2,9,3,2,24,9,4],2,2,4)"
      ],
      "metadata": {
        "colab": {
          "base_uri": "https://localhost:8080/"
        },
        "id": "NG_aWNCAG8X7",
        "outputId": "e2063f1b-0e82-4330-9661-a9b675cfc8b0"
      },
      "execution_count": null,
      "outputs": [
        {
          "output_type": "execute_result",
          "data": {
            "text/plain": [
              "False"
            ]
          },
          "metadata": {},
          "execution_count": 6
        }
      ]
    },
    {
      "cell_type": "markdown",
      "source": [
        "# Immediate Smaller Element"
      ],
      "metadata": {
        "id": "L09J2S6FNtL2"
      }
    },
    {
      "cell_type": "code",
      "source": [
        "def immediateSmaller(arr):\n",
        "  result = list()\n",
        "  for i in range(len(arr)-1):\n",
        "    if arr[i] > arr[i+1]:\n",
        "      result.append(arr[i+1])\n",
        "    elif arr[i] < arr[i+1]:\n",
        "      result.append(-1)\n",
        "  result.append(-1)\n",
        "  return result"
      ],
      "metadata": {
        "id": "1dibhX0zHgQi"
      },
      "execution_count": null,
      "outputs": []
    },
    {
      "cell_type": "code",
      "source": [
        "immediateSmaller([4, 2, 1, 5, 3]) # result should be 2 1 -1 3 -1"
      ],
      "metadata": {
        "colab": {
          "base_uri": "https://localhost:8080/"
        },
        "id": "86tPa_T-PQ5O",
        "outputId": "f30b5525-6e12-43c3-a099-27c854126dbf"
      },
      "execution_count": null,
      "outputs": [
        {
          "output_type": "execute_result",
          "data": {
            "text/plain": [
              "[2, 1, -1, 3, -1]"
            ]
          },
          "metadata": {},
          "execution_count": 9
        }
      ]
    },
    {
      "cell_type": "code",
      "source": [
        "len([4, 2, 1, 5, 3])"
      ],
      "metadata": {
        "colab": {
          "base_uri": "https://localhost:8080/"
        },
        "id": "Wsm5fNjp1Hfz",
        "outputId": "babad15c-5fee-4eae-b879-7cf029a2ffba"
      },
      "execution_count": null,
      "outputs": [
        {
          "output_type": "execute_result",
          "data": {
            "text/plain": [
              "5"
            ]
          },
          "metadata": {},
          "execution_count": 2
        }
      ]
    },
    {
      "cell_type": "markdown",
      "source": [
        "# Maximize sum(arr[i]*i) of an Array"
      ],
      "metadata": {
        "id": "GhbMqEWFRRyo"
      }
    },
    {
      "cell_type": "code",
      "source": [
        "def maximizeSum(arr):\n",
        "  result = int()\n",
        "  arr.sort()\n",
        "  for i in range(len(arr)):\n",
        "    result += i*arr[i]\n",
        "  return result"
      ],
      "metadata": {
        "id": "TnoDQBVEPXyt"
      },
      "execution_count": null,
      "outputs": []
    },
    {
      "cell_type": "code",
      "source": [
        "maximizeSum([5, 3, 2, 4, 1, 6])"
      ],
      "metadata": {
        "colab": {
          "base_uri": "https://localhost:8080/"
        },
        "id": "moYVdtV9S1TR",
        "outputId": "ca24e675-d6bb-41e7-94ed-f670ab01d0b6"
      },
      "execution_count": null,
      "outputs": [
        {
          "output_type": "execute_result",
          "data": {
            "text/plain": [
              "70"
            ]
          },
          "metadata": {},
          "execution_count": 6
        }
      ]
    },
    {
      "cell_type": "code",
      "source": [
        "maximizeSum([1, 2, 3])"
      ],
      "metadata": {
        "colab": {
          "base_uri": "https://localhost:8080/"
        },
        "id": "6PWljsetS8Zm",
        "outputId": "59c4889d-45ec-4874-dc0f-b3f327c35ccd"
      },
      "execution_count": null,
      "outputs": [
        {
          "output_type": "execute_result",
          "data": {
            "text/plain": [
              "8"
            ]
          },
          "metadata": {},
          "execution_count": 5
        }
      ]
    },
    {
      "cell_type": "code",
      "source": [],
      "metadata": {
        "id": "ZsHSLPMTTOhY"
      },
      "execution_count": null,
      "outputs": []
    }
  ]
}