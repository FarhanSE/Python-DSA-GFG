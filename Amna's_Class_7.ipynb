{
  "nbformat": 4,
  "nbformat_minor": 0,
  "metadata": {
    "colab": {
      "provenance": [],
      "authorship_tag": "ABX9TyNinpIZeVSJYqJxj0t/K0fu",
      "include_colab_link": true
    },
    "kernelspec": {
      "name": "python3",
      "display_name": "Python 3"
    },
    "language_info": {
      "name": "python"
    }
  },
  "cells": [
    {
      "cell_type": "markdown",
      "metadata": {
        "id": "view-in-github",
        "colab_type": "text"
      },
      "source": [
        "<a href=\"https://colab.research.google.com/github/FarhanSE/Python-DSA-GFG/blob/master/Amna's_Class_7.ipynb\" target=\"_parent\"><img src=\"https://colab.research.google.com/assets/colab-badge.svg\" alt=\"Open In Colab\"/></a>"
      ]
    },
    {
      "cell_type": "markdown",
      "source": [
        "# Linked List Insertion"
      ],
      "metadata": {
        "id": "MR0gV0s_n7hC"
      }
    },
    {
      "cell_type": "code",
      "execution_count": null,
      "metadata": {
        "id": "z03I1iXvlmoM"
      },
      "outputs": [],
      "source": [
        "class Node:\n",
        "    def __init__(self,data):\n",
        "        self.data=data\n",
        "        self.next=None\n",
        "\n",
        "class Solution:\n",
        "    #Function to insert a node at the beginning of the linked list.\n",
        "    def insertAtBegining(self,head,x):\n",
        "        \n",
        "        new_node = Node(x)\n",
        "        new_node.next = head\n",
        "        return new_node\n",
        "    \n",
        "    #Function to insert a node at the end of the linked list.\n",
        "    def insertAtEnd(self,head,x):\n",
        "        \n",
        "        new_node = Node(x)\n",
        "        \n",
        "        if head == None:\n",
        "            \n",
        "            return new_node\n",
        "        \n",
        "        else:\n",
        "            \n",
        "            tmp = head\n",
        "            while (tmp.next):\n",
        "                print(tmp.next)\n",
        "                print(tmp.data)\n",
        "                tmp = tmp.next\n",
        "            print(tmp.data)\n",
        "            tmp.next = new_node\n",
        "            \n",
        "            return head\n",
        "\n",
        "\n",
        "\n",
        "\n",
        "\n"
      ]
    },
    {
      "cell_type": "code",
      "source": [
        "obj = Solution()"
      ],
      "metadata": {
        "id": "4xWaycMspeSl"
      },
      "execution_count": null,
      "outputs": []
    },
    {
      "cell_type": "code",
      "source": [
        "obj"
      ],
      "metadata": {
        "colab": {
          "base_uri": "https://localhost:8080/"
        },
        "id": "7QUm4yutppYB",
        "outputId": "0d1c9e83-4b0e-45ce-b2e6-15db9563b9d4"
      },
      "execution_count": null,
      "outputs": [
        {
          "output_type": "execute_result",
          "data": {
            "text/plain": [
              "<__main__.Solution at 0x7f1e497ec150>"
            ]
          },
          "metadata": {},
          "execution_count": 54
        }
      ]
    },
    {
      "cell_type": "code",
      "source": [
        "head = obj.insertAtBegining(None,2)"
      ],
      "metadata": {
        "id": "FQnY_CEzpqnk"
      },
      "execution_count": null,
      "outputs": []
    },
    {
      "cell_type": "code",
      "source": [
        "head.data"
      ],
      "metadata": {
        "colab": {
          "base_uri": "https://localhost:8080/"
        },
        "id": "Uri0OhUu2IWv",
        "outputId": "62b17ca9-dc6f-4981-a5de-48cb2d698397"
      },
      "execution_count": null,
      "outputs": [
        {
          "output_type": "execute_result",
          "data": {
            "text/plain": [
              "2"
            ]
          },
          "metadata": {},
          "execution_count": 56
        }
      ]
    },
    {
      "cell_type": "code",
      "source": [
        "head.next"
      ],
      "metadata": {
        "id": "DyucOlOD2Omo"
      },
      "execution_count": null,
      "outputs": []
    },
    {
      "cell_type": "code",
      "source": [
        "head = obj.insertAtBegining(head, 5)"
      ],
      "metadata": {
        "id": "-QXUCcbdpuWM"
      },
      "execution_count": null,
      "outputs": []
    },
    {
      "cell_type": "code",
      "source": [
        "obj.insertAtEnd(head,9)"
      ],
      "metadata": {
        "colab": {
          "base_uri": "https://localhost:8080/"
        },
        "id": "5EbxDWaQs3ol",
        "outputId": "b908beae-06d9-4f43-99db-685a6ebb61f3"
      },
      "execution_count": null,
      "outputs": [
        {
          "output_type": "stream",
          "name": "stdout",
          "text": [
            "<__main__.Node object at 0x7f1e4982f8d0>\n",
            "5\n",
            "2\n"
          ]
        },
        {
          "output_type": "execute_result",
          "data": {
            "text/plain": [
              "<__main__.Node at 0x7f1e4982f910>"
            ]
          },
          "metadata": {},
          "execution_count": 59
        }
      ]
    },
    {
      "cell_type": "code",
      "source": [
        "obj.insertAtEnd(head, 10)"
      ],
      "metadata": {
        "colab": {
          "base_uri": "https://localhost:8080/"
        },
        "id": "H0R1tb8Hs6li",
        "outputId": "697e13fb-f09a-4411-868f-a63acd571cb4"
      },
      "execution_count": null,
      "outputs": [
        {
          "output_type": "stream",
          "name": "stdout",
          "text": [
            "<__main__.Node object at 0x7f1e4982f8d0>\n",
            "5\n",
            "<__main__.Node object at 0x7f1e497efa10>\n",
            "2\n",
            "9\n"
          ]
        },
        {
          "output_type": "execute_result",
          "data": {
            "text/plain": [
              "<__main__.Node at 0x7f1e4982f910>"
            ]
          },
          "metadata": {},
          "execution_count": 60
        }
      ]
    },
    {
      "cell_type": "code",
      "source": [
        "obj.insertAtEnd(head, 11)"
      ],
      "metadata": {
        "colab": {
          "base_uri": "https://localhost:8080/"
        },
        "id": "zrZeB4ma1d6c",
        "outputId": "a2409eb2-baa4-4915-eb66-5dbc6f565da9"
      },
      "execution_count": null,
      "outputs": [
        {
          "output_type": "stream",
          "name": "stdout",
          "text": [
            "<__main__.Node object at 0x7f1e4982f8d0>\n",
            "5\n",
            "<__main__.Node object at 0x7f1e497efa10>\n",
            "2\n",
            "<__main__.Node object at 0x7f1e497ef590>\n",
            "9\n",
            "10\n"
          ]
        },
        {
          "output_type": "execute_result",
          "data": {
            "text/plain": [
              "<__main__.Node at 0x7f1e4982f910>"
            ]
          },
          "metadata": {},
          "execution_count": 61
        }
      ]
    },
    {
      "cell_type": "markdown",
      "source": [
        "# Count nodes of linked list"
      ],
      "metadata": {
        "id": "L-gUFstd3iu1"
      }
    },
    {
      "cell_type": "code",
      "source": [
        "class Solution1:\n",
        "    \n",
        "    def getCount(self, head_node):\n",
        "        count=0\n",
        "        a=head_node\n",
        "        while a is not None:\n",
        "            count=count+1\n",
        "            a=a.next\n",
        "        return count"
      ],
      "metadata": {
        "id": "A-kJAWzu3Aw7"
      },
      "execution_count": null,
      "outputs": []
    },
    {
      "cell_type": "code",
      "source": [
        "obj1 =  Solution1()"
      ],
      "metadata": {
        "id": "1vqy3iCq4l9R"
      },
      "execution_count": null,
      "outputs": []
    },
    {
      "cell_type": "code",
      "source": [
        "obj1.getCount(head)"
      ],
      "metadata": {
        "id": "pDk30B_C4rbf",
        "outputId": "3d1855f6-18e5-4a33-ef0a-f796eae43df8",
        "colab": {
          "base_uri": "https://localhost:8080/"
        }
      },
      "execution_count": null,
      "outputs": [
        {
          "output_type": "execute_result",
          "data": {
            "text/plain": [
              "5"
            ]
          },
          "metadata": {},
          "execution_count": 65
        }
      ]
    },
    {
      "cell_type": "code",
      "source": [],
      "metadata": {
        "id": "pAsi5Kj74w0V"
      },
      "execution_count": null,
      "outputs": []
    }
  ]
}