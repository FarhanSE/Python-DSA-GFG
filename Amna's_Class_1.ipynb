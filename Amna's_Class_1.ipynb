{
  "nbformat": 4,
  "nbformat_minor": 0,
  "metadata": {
    "colab": {
      "provenance": [],
      "include_colab_link": true
    },
    "kernelspec": {
      "name": "python3",
      "display_name": "Python 3"
    },
    "language_info": {
      "name": "python"
    }
  },
  "cells": [
    {
      "cell_type": "markdown",
      "metadata": {
        "id": "view-in-github",
        "colab_type": "text"
      },
      "source": [
        "<a href=\"https://colab.research.google.com/github/FarhanSE/Python-DSA-GFG/blob/master/Amna's_Class_1.ipynb\" target=\"_parent\"><img src=\"https://colab.research.google.com/assets/colab-badge.svg\" alt=\"Open In Colab\"/></a>"
      ]
    },
    {
      "cell_type": "code",
      "source": [
        "a = [4,5,6,7,8,9,12,34,67,89,90]"
      ],
      "metadata": {
        "id": "dRLuA6J0nfnE"
      },
      "execution_count": null,
      "outputs": []
    },
    {
      "cell_type": "code",
      "source": [
        "len(a)"
      ],
      "metadata": {
        "colab": {
          "base_uri": "https://localhost:8080/"
        },
        "id": "V7RTUBe9nmB9",
        "outputId": "f7434982-fc6d-4c56-ad6b-8b5926f8f53e"
      },
      "execution_count": null,
      "outputs": [
        {
          "output_type": "execute_result",
          "data": {
            "text/plain": [
              "11"
            ]
          },
          "metadata": {},
          "execution_count": 2
        }
      ]
    },
    {
      "cell_type": "code",
      "source": [
        "\"This is {} {}\".format(\"farhan\", a)"
      ],
      "metadata": {
        "colab": {
          "base_uri": "https://localhost:8080/",
          "height": 35
        },
        "id": "bzIH63YFoSaL",
        "outputId": "41d130d5-1a7f-4cae-baa1-fd8243906fa1"
      },
      "execution_count": null,
      "outputs": [
        {
          "output_type": "execute_result",
          "data": {
            "text/plain": [
              "'This is farhan [4, 5, 6, 7, 8, 9, 12, 34, 67, 89, 90]'"
            ],
            "application/vnd.google.colaboratory.intrinsic+json": {
              "type": "string"
            }
          },
          "metadata": {},
          "execution_count": 4
        }
      ]
    },
    {
      "cell_type": "code",
      "source": [
        "f\"This is {'Farhan'} jbhbdhsbc {a}\""
      ],
      "metadata": {
        "colab": {
          "base_uri": "https://localhost:8080/",
          "height": 35
        },
        "id": "s1xvi9Gdoidr",
        "outputId": "c56c13f0-d376-4a7c-95c6-6277d010a26a"
      },
      "execution_count": null,
      "outputs": [
        {
          "output_type": "execute_result",
          "data": {
            "text/plain": [
              "'This is Farhan jbhbdhsbc [4, 5, 6, 7, 8, 9, 12, 34, 67, 89, 90]'"
            ],
            "application/vnd.google.colaboratory.intrinsic+json": {
              "type": "string"
            }
          },
          "metadata": {},
          "execution_count": 6
        }
      ]
    },
    {
      "cell_type": "code",
      "execution_count": null,
      "metadata": {
        "id": "i4s7RethNSG7"
      },
      "outputs": [],
      "source": [
        "def search_binary(list_,n):\n",
        "  lower = 0\n",
        "  upper = len(list_)-1\n",
        "  while lower <= upper:\n",
        "    mid = (lower+upper) // 2\n",
        "    print(mid)\n",
        "    if n == list_[mid]:\n",
        "      return f\"{n} found at index {mid}\"\n",
        "    elif mid == upper or lower==mid:\n",
        "      return \"Not found\"\n",
        "    else:\n",
        "      if list_[mid] < n:\n",
        "        lower = mid\n",
        "      else:\n",
        "        upper = mid\n",
        "\n"
      ]
    },
    {
      "cell_type": "code",
      "source": [
        "print(search_binary([4,5,6,7,8,9,12,34,67,89,90],89))"
      ],
      "metadata": {
        "colab": {
          "base_uri": "https://localhost:8080/"
        },
        "id": "nDytokmbNb-Q",
        "outputId": "d12bbb64-0c77-4de3-9feb-596ccd298ab2"
      },
      "execution_count": null,
      "outputs": [
        {
          "output_type": "stream",
          "name": "stdout",
          "text": [
            "5\n",
            "7\n",
            "8\n",
            "9\n",
            "89 found at index 9\n"
          ]
        }
      ]
    },
    {
      "cell_type": "markdown",
      "source": [
        "# Reverse array in groups"
      ],
      "metadata": {
        "id": "uh9tW1C2VhAm"
      }
    },
    {
      "cell_type": "code",
      "source": [
        "def reverseInGroups(lngth, rev_index, arr=None):\n",
        "  result = list()\n",
        "  \n",
        "  if not arr:\n",
        "    arr = range(0, lngth)\n",
        "  print(arr)\n",
        "  start = 0\n",
        "  extra = []\n",
        "  for j in range(rev_index, lngth):\n",
        "    extra.append(arr[j])\n",
        "  while start < rev_index:\n",
        "    for i in range(rev_index-1, -1, -1):\n",
        "      result.append(arr[i])\n",
        "      start +=1\n",
        "  return result\n",
        "\n",
        "  "
      ],
      "metadata": {
        "id": "hfuRC0qSNmCb"
      },
      "execution_count": null,
      "outputs": []
    },
    {
      "cell_type": "code",
      "source": [
        "print(reverseInGroups(20, 10))"
      ],
      "metadata": {
        "colab": {
          "base_uri": "https://localhost:8080/"
        },
        "id": "ZfDryyWhWjrO",
        "outputId": "f387b190-c32f-42bb-da22-667427fcb352"
      },
      "execution_count": null,
      "outputs": [
        {
          "output_type": "stream",
          "name": "stdout",
          "text": [
            "range(0, 20)\n",
            "[9, 8, 7, 6, 5, 4, 3, 2, 1, 0]\n"
          ]
        }
      ]
    },
    {
      "cell_type": "markdown",
      "source": [
        "# Triplets"
      ],
      "metadata": {
        "id": "LrufP45wgDDY"
      }
    },
    {
      "cell_type": "code",
      "source": [
        "def findTriplets(arr, n):\n",
        "        #code here\n",
        "        if n < 3:\n",
        "            return False\n",
        "\n",
        "        total = 0\n",
        "        for i in range(0,n-1):\n",
        "            s = set()\n",
        "            for j in range(i+1,n):\n",
        "                total = arr[i] + arr[j]\n",
        "                print(arr[i],arr[j], total)\n",
        "                if -(total) in s:\n",
        "                    return True\n",
        "                else:\n",
        "                    s.add(arr[j])\n",
        "        return False"
      ],
      "metadata": {
        "id": "awkd5enoai6p"
      },
      "execution_count": null,
      "outputs": []
    },
    {
      "cell_type": "code",
      "source": [
        "findTriplets([0,1,-1,2,3,4,5,6,78,88,99], 8 )"
      ],
      "metadata": {
        "colab": {
          "base_uri": "https://localhost:8080/"
        },
        "id": "9HFejUE7gGHg",
        "outputId": "5d8622c0-162d-4695-ce62-b5673e856d22"
      },
      "execution_count": null,
      "outputs": [
        {
          "output_type": "stream",
          "name": "stdout",
          "text": [
            "0 1 1\n",
            "0 -1 -1\n"
          ]
        },
        {
          "output_type": "execute_result",
          "data": {
            "text/plain": [
              "True"
            ]
          },
          "metadata": {},
          "execution_count": 31
        }
      ]
    },
    {
      "cell_type": "code",
      "source": [
        "-(1) in {-1}"
      ],
      "metadata": {
        "colab": {
          "base_uri": "https://localhost:8080/"
        },
        "id": "c3rx8yPXgQ6W",
        "outputId": "71c75bb7-e714-4ea2-f03e-56523a7b8809"
      },
      "execution_count": null,
      "outputs": [
        {
          "output_type": "execute_result",
          "data": {
            "text/plain": [
              "True"
            ]
          },
          "metadata": {},
          "execution_count": 29
        }
      ]
    },
    {
      "cell_type": "markdown",
      "source": [
        "# Rotate array cyclically"
      ],
      "metadata": {
        "id": "or27JyOaigbA"
      }
    },
    {
      "cell_type": "code",
      "source": [
        "def rotate( arr, n):\n",
        "  num = arr[0]\n",
        "  print(\"num\",num)\n",
        "  arr[0] = arr[n-1]\n",
        "  for i in range(0,n-1):# 66,2,3,4,5,6,7,8,9\n",
        "      temp = arr[i+1]\n",
        "      print(\"temp\",temp)\n",
        "      arr[i+1] = num\n",
        "      num = temp\n",
        "  return arr"
      ],
      "metadata": {
        "id": "wqxnPE5UgsVV"
      },
      "execution_count": null,
      "outputs": []
    },
    {
      "cell_type": "code",
      "source": [
        "rotate([2,3,4,5,6,7,8,9,66], 9)"
      ],
      "metadata": {
        "colab": {
          "base_uri": "https://localhost:8080/"
        },
        "id": "huOY59NSiqZS",
        "outputId": "86016458-dc76-4db5-fc7b-52bc256730a2"
      },
      "execution_count": null,
      "outputs": [
        {
          "output_type": "stream",
          "name": "stdout",
          "text": [
            "num 2\n",
            "temp 3\n",
            "temp 4\n",
            "temp 5\n",
            "temp 6\n",
            "temp 7\n",
            "temp 8\n",
            "temp 9\n",
            "temp 66\n"
          ]
        },
        {
          "output_type": "execute_result",
          "data": {
            "text/plain": [
              "[66, 2, 3, 4, 5, 6, 7, 8, 9]"
            ]
          },
          "metadata": {},
          "execution_count": 37
        }
      ]
    },
    {
      "cell_type": "markdown",
      "source": [
        "# Find if two array are equal or not"
      ],
      "metadata": {
        "id": "_L_8yegkjg3p"
      }
    },
    {
      "cell_type": "code",
      "source": [
        "def check(A,B):\n",
        "  A=sorted(A)\n",
        "  B=sorted(B)\n",
        "  if(A==B):\n",
        "      return True\n",
        "  return False"
      ],
      "metadata": {
        "id": "yrGIjvoLizZW"
      },
      "execution_count": null,
      "outputs": []
    },
    {
      "cell_type": "code",
      "source": [
        "check([1,2,3],[1,2,3,4])"
      ],
      "metadata": {
        "colab": {
          "base_uri": "https://localhost:8080/"
        },
        "id": "PrrRUeJIjsyF",
        "outputId": "5977d1e5-cdc6-4dc3-97a6-bc0edf22c162"
      },
      "execution_count": null,
      "outputs": [
        {
          "output_type": "execute_result",
          "data": {
            "text/plain": [
              "False"
            ]
          },
          "metadata": {},
          "execution_count": 68
        }
      ]
    },
    {
      "cell_type": "markdown",
      "source": [
        "# Find index of item in array"
      ],
      "metadata": {
        "id": "V04J62DgkqfV"
      }
    },
    {
      "cell_type": "code",
      "source": [
        "def search_item(arr, X):\n",
        "  j = 0\n",
        "  for i in range(len(arr)-1):\n",
        "    if arr[i] == X:\n",
        "      return i\n",
        "  return -1"
      ],
      "metadata": {
        "id": "01aloe3mkDrl"
      },
      "execution_count": null,
      "outputs": []
    },
    {
      "cell_type": "code",
      "source": [
        "search_item([2,4,5,6,7,8],7)"
      ],
      "metadata": {
        "colab": {
          "base_uri": "https://localhost:8080/"
        },
        "id": "3nWInug3lGYW",
        "outputId": "fae08c0a-b4de-425c-92a6-85959a5d79ef"
      },
      "execution_count": null,
      "outputs": [
        {
          "output_type": "execute_result",
          "data": {
            "text/plain": [
              "4"
            ]
          },
          "metadata": {},
          "execution_count": 39
        }
      ]
    },
    {
      "cell_type": "code",
      "source": [],
      "metadata": {
        "id": "ZOzUwvhUlOVC"
      },
      "execution_count": null,
      "outputs": []
    }
  ]
}