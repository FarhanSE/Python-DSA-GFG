{
  "nbformat": 4,
  "nbformat_minor": 0,
  "metadata": {
    "colab": {
      "provenance": [],
      "authorship_tag": "ABX9TyPPRQ+W4Lpxz/JppjApAsaY",
      "include_colab_link": true
    },
    "kernelspec": {
      "name": "python3",
      "display_name": "Python 3"
    },
    "language_info": {
      "name": "python"
    }
  },
  "cells": [
    {
      "cell_type": "markdown",
      "metadata": {
        "id": "view-in-github",
        "colab_type": "text"
      },
      "source": [
        "<a href=\"https://colab.research.google.com/github/FarhanSE/Python-DSA-GFG/blob/master/Amna's_class_2.ipynb\" target=\"_parent\"><img src=\"https://colab.research.google.com/assets/colab-badge.svg\" alt=\"Open In Colab\"/></a>"
      ]
    },
    {
      "cell_type": "markdown",
      "source": [
        "Find all Triplets"
      ],
      "metadata": {
        "id": "_Hv99a9fDiGS"
      }
    },
    {
      "cell_type": "code",
      "execution_count": null,
      "metadata": {
        "colab": {
          "base_uri": "https://localhost:8080/"
        },
        "id": "E8RxyflOfA6w",
        "outputId": "f1b51a85-5cc7-4791-db08-dd450efa2d26"
      },
      "outputs": [
        {
          "output_type": "stream",
          "name": "stdout",
          "text": [
            "0 -1 1\n",
            "2 -3 1\n"
          ]
        }
      ],
      "source": [
        "def findTriplets(arr, n): \n",
        "  \n",
        "    found = True\n",
        "    for i in range(0, n-2): \n",
        "      \n",
        "        for j in range(i+1, n-1): \n",
        "          \n",
        "            for k in range(j+1, n): \n",
        "              \n",
        "                if (arr[i] + arr[j] + arr[k] == 0): \n",
        "                    print(arr[i], arr[j], arr[k]) \n",
        "                    found = True\n",
        "      \n",
        "              \n",
        "    # If no triplet with 0 sum  \n",
        "    # found in array \n",
        "    if (found == False): \n",
        "        print(\" not exist \") \n",
        "  \n",
        "# Driver code \n",
        "arr = [0, -1, 2, -3, 1] \n",
        "n = len(arr) \n",
        "findTriplets(arr, n)"
      ]
    },
    {
      "cell_type": "code",
      "source": [
        "def getMinMax( a, n):\n",
        "    min = a[0]\n",
        "    max = a[0]\n",
        "    \n",
        "    if n > 1:\n",
        "        for i in range(1, n):\n",
        "            if a[i] > max:\n",
        "                max = a[i]\n",
        "            elif a[i] < min:\n",
        "                min = a[i]\n",
        "        \n",
        "    return max, min"
      ],
      "metadata": {
        "id": "letCK0KqDXjv"
      },
      "execution_count": null,
      "outputs": []
    },
    {
      "cell_type": "code",
      "source": [
        "getMinMax([10,9,8,7,6,5,4,3], 8)"
      ],
      "metadata": {
        "colab": {
          "base_uri": "https://localhost:8080/"
        },
        "id": "rzAxa8ZfLnrv",
        "outputId": "d6504273-d630-4eaa-d40d-6e92fce7b407"
      },
      "execution_count": null,
      "outputs": [
        {
          "output_type": "execute_result",
          "data": {
            "text/plain": [
              "(10, 3)"
            ]
          },
          "metadata": {},
          "execution_count": 7
        }
      ]
    },
    {
      "cell_type": "code",
      "source": [],
      "metadata": {
        "id": "pP0VESqhLy0E"
      },
      "execution_count": null,
      "outputs": []
    }
  ]
}