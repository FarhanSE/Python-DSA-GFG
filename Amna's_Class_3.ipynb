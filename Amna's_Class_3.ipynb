{
  "nbformat": 4,
  "nbformat_minor": 0,
  "metadata": {
    "colab": {
      "provenance": [],
      "authorship_tag": "ABX9TyNKLJKZMwNU1ppLpyYaQzWB",
      "include_colab_link": true
    },
    "kernelspec": {
      "name": "python3",
      "display_name": "Python 3"
    },
    "language_info": {
      "name": "python"
    }
  },
  "cells": [
    {
      "cell_type": "markdown",
      "metadata": {
        "id": "view-in-github",
        "colab_type": "text"
      },
      "source": [
        "<a href=\"https://colab.research.google.com/github/FarhanSE/Python-DSA-GFG/blob/master/Amna's_Class_3.ipynb\" target=\"_parent\"><img src=\"https://colab.research.google.com/assets/colab-badge.svg\" alt=\"Open In Colab\"/></a>"
      ]
    },
    {
      "cell_type": "markdown",
      "source": [
        "# Largest Element in Array"
      ],
      "metadata": {
        "id": "BoGEEmP15cYd"
      }
    },
    {
      "cell_type": "code",
      "execution_count": null,
      "metadata": {
        "id": "zPzfjYfZ5T-f"
      },
      "outputs": [],
      "source": [
        "def findLargestElement(arr, n):\n",
        "  largest = arr[0]\n",
        "  for i in range(1, len(arr)):\n",
        "    if largest < arr[i]:\n",
        "      largest = arr[i]\n",
        "  return largest"
      ]
    },
    {
      "cell_type": "code",
      "source": [
        "gen = findLargestElement([2,1000,7,4,3,9, 2000, 5000],6)"
      ],
      "metadata": {
        "id": "8x_ucKW656sV"
      },
      "execution_count": null,
      "outputs": []
    },
    {
      "cell_type": "code",
      "source": [
        "gen"
      ],
      "metadata": {
        "colab": {
          "base_uri": "https://localhost:8080/"
        },
        "id": "ucajqFHEJWxk",
        "outputId": "89802de2-e063-4ac2-f2b7-51c621e3764e"
      },
      "execution_count": null,
      "outputs": [
        {
          "output_type": "execute_result",
          "data": {
            "text/plain": [
              "5000"
            ]
          },
          "metadata": {},
          "execution_count": 9
        }
      ]
    },
    {
      "cell_type": "code",
      "source": [
        "# for i in gen:\n",
        "#   print(i)"
      ],
      "metadata": {
        "id": "_-wJ01nYI2aG"
      },
      "execution_count": null,
      "outputs": []
    },
    {
      "cell_type": "markdown",
      "source": [
        "# First and last occurrences of x"
      ],
      "metadata": {
        "id": "z6LNK7Yg6uWu"
      }
    },
    {
      "cell_type": "code",
      "source": [
        "def findAccurence(arr, f):\n",
        "  if f not in arr:\n",
        "      return False\n",
        "  l=arr.index(f)\n",
        "  lower = None\n",
        "  upper = None\n",
        "  for i in range(len(arr)-1,-1,-1):\n",
        "      if arr[i]==f:\n",
        "          l1=i\n",
        "          break\n",
        "  return l,l1"
      ],
      "metadata": {
        "id": "IvTSXcvB6AzP"
      },
      "execution_count": null,
      "outputs": []
    },
    {
      "cell_type": "code",
      "source": [
        "findAccurence([5,23,5,5,7,8,0,5], 10)"
      ],
      "metadata": {
        "colab": {
          "base_uri": "https://localhost:8080/"
        },
        "id": "dz402LVk8arW",
        "outputId": "2a8e555c-d9e8-458e-df75-7679b01a136a"
      },
      "execution_count": null,
      "outputs": [
        {
          "output_type": "execute_result",
          "data": {
            "text/plain": [
              "False"
            ]
          },
          "metadata": {},
          "execution_count": 15
        }
      ]
    },
    {
      "cell_type": "markdown",
      "source": [
        "# Minimum distance between two numbers"
      ],
      "metadata": {
        "id": "lgMtHRyC_wi-"
      }
    },
    {
      "cell_type": "code",
      "source": [
        "def minDist(arr, n, x, y):\n",
        "  pointer_x = int()\n",
        "  pointer_y = int()\n",
        "  if x not in arr or y not in arr:\n",
        "      return -1\n",
        "  for i in range(n):\n",
        "      if arr[i] == x:\n",
        "          pointer_x = i\n",
        "      elif arr[i] == y:\n",
        "          pointer_y = i\n",
        "      difference = pointer_y - pointer_x\n",
        "  return difference\n"
      ],
      "metadata": {
        "id": "7bcMuONg8p51"
      },
      "execution_count": null,
      "outputs": []
    },
    {
      "cell_type": "code",
      "source": [
        "minDist([0,8,9,6,3,2,1,4,5,7], 10, 8,5)"
      ],
      "metadata": {
        "colab": {
          "base_uri": "https://localhost:8080/"
        },
        "id": "-KCyz776-5v2",
        "outputId": "e74f58e2-0748-48b0-af8c-5441ae688db2"
      },
      "execution_count": null,
      "outputs": [
        {
          "output_type": "execute_result",
          "data": {
            "text/plain": [
              "7"
            ]
          },
          "metadata": {},
          "execution_count": 42
        }
      ]
    },
    {
      "cell_type": "code",
      "source": [
        "arr = [1,8,5,6, 5]\n",
        "for i in range(len(arr)):\n",
        "  if arr[i] == 5:\n",
        "    print(i)\n",
        "    break"
      ],
      "metadata": {
        "id": "heCRsj-4_Uc-",
        "colab": {
          "base_uri": "https://localhost:8080/"
        },
        "outputId": "1bdbb6e6-2179-4a7c-94cc-bfe3f69919b0"
      },
      "execution_count": null,
      "outputs": [
        {
          "output_type": "stream",
          "name": "stdout",
          "text": [
            "2\n"
          ]
        }
      ]
    },
    {
      "cell_type": "code",
      "source": [],
      "metadata": {
        "id": "2enYIajqMSQo"
      },
      "execution_count": null,
      "outputs": []
    }
  ]
}