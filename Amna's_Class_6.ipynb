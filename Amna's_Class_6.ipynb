{
  "nbformat": 4,
  "nbformat_minor": 0,
  "metadata": {
    "colab": {
      "provenance": [],
      "authorship_tag": "ABX9TyPJu4QS74H8GlJ/Lkd9q24u",
      "include_colab_link": true
    },
    "kernelspec": {
      "name": "python3",
      "display_name": "Python 3"
    },
    "language_info": {
      "name": "python"
    }
  },
  "cells": [
    {
      "cell_type": "markdown",
      "metadata": {
        "id": "view-in-github",
        "colab_type": "text"
      },
      "source": [
        "<a href=\"https://colab.research.google.com/github/FarhanSE/Python-DSA-GFG/blob/master/Amna's_Class_6.ipynb\" target=\"_parent\"><img src=\"https://colab.research.google.com/assets/colab-badge.svg\" alt=\"Open In Colab\"/></a>"
      ]
    },
    {
      "cell_type": "markdown",
      "source": [
        "# Implement Queue using array"
      ],
      "metadata": {
        "id": "ieGIlf5gnWEu"
      }
    },
    {
      "cell_type": "markdown",
      "source": [
        "A queue is defined as a linear data structure that is open at both ends and the operations are performed in First In First Out (FIFO) order. We define a queue to be a list in which all additions to the list are made at one end, and all deletions from the list are made at the other end."
      ],
      "metadata": {
        "id": "_KZ3W1WonjKa"
      }
    },
    {
      "cell_type": "code",
      "execution_count": null,
      "metadata": {
        "id": "QXYwFd23nNFk"
      },
      "outputs": [],
      "source": [
        "class queue:\n",
        "  def __init__(self):\n",
        "    self.myqueue = []\n",
        "  def push(self, data):\n",
        "    self.myqueue.append(data)\n",
        "    return self.myqueue\n",
        "  def pop(self):\n",
        "    poped = self.myqueue.pop(0)\n",
        "    return poped"
      ]
    },
    {
      "cell_type": "code",
      "source": [
        "obj = queue()"
      ],
      "metadata": {
        "id": "ChEL7AJBn9yK"
      },
      "execution_count": null,
      "outputs": []
    },
    {
      "cell_type": "code",
      "source": [
        "obj.myqueue"
      ],
      "metadata": {
        "colab": {
          "base_uri": "https://localhost:8080/"
        },
        "id": "LI2LRwBZoB3K",
        "outputId": "6212b1a4-eba7-4ed3-c374-92d7810b4d03"
      },
      "execution_count": null,
      "outputs": [
        {
          "output_type": "execute_result",
          "data": {
            "text/plain": [
              "[]"
            ]
          },
          "metadata": {},
          "execution_count": 7
        }
      ]
    },
    {
      "cell_type": "code",
      "source": [
        "obj.push(5)"
      ],
      "metadata": {
        "colab": {
          "base_uri": "https://localhost:8080/"
        },
        "id": "kdvbM8vioEJa",
        "outputId": "d8be04e3-965b-49ac-8466-e1eafcd786a4"
      },
      "execution_count": null,
      "outputs": [
        {
          "output_type": "execute_result",
          "data": {
            "text/plain": [
              "[5]"
            ]
          },
          "metadata": {},
          "execution_count": 8
        }
      ]
    },
    {
      "cell_type": "code",
      "source": [
        "obj.push(6)"
      ],
      "metadata": {
        "colab": {
          "base_uri": "https://localhost:8080/"
        },
        "id": "cMuF7iy8oGxu",
        "outputId": "f788bd5f-c869-4988-f2ac-1c292a144b74"
      },
      "execution_count": null,
      "outputs": [
        {
          "output_type": "execute_result",
          "data": {
            "text/plain": [
              "[5, 6]"
            ]
          },
          "metadata": {},
          "execution_count": 9
        }
      ]
    },
    {
      "cell_type": "code",
      "source": [
        "obj.pop()"
      ],
      "metadata": {
        "colab": {
          "base_uri": "https://localhost:8080/"
        },
        "id": "YGcnS0y6oL8z",
        "outputId": "0bed11dd-37bb-4cfc-f598-816de4aa23b0"
      },
      "execution_count": null,
      "outputs": [
        {
          "output_type": "execute_result",
          "data": {
            "text/plain": [
              "5"
            ]
          },
          "metadata": {},
          "execution_count": 10
        }
      ]
    },
    {
      "cell_type": "markdown",
      "source": [
        "# Binary Array Sorting"
      ],
      "metadata": {
        "id": "vZTBA6Bdq-4L"
      }
    },
    {
      "cell_type": "code",
      "source": [
        "def binSort( arr, N): \n",
        "  i = 0\n",
        "  j = N-1\n",
        "  \n",
        "  while i <= j:\n",
        "      print(i,j)\n",
        "      if arr[i]<arr[j]:\n",
        "          i += 1\n",
        "      elif arr[i]>arr[j]:\n",
        "          arr[i], arr[j] = arr[j], arr[i]\n",
        "          i += 1\n",
        "          j -= 1\n",
        "      else:\n",
        "          if arr[i]==0:\n",
        "              i +=1\n",
        "          else:\n",
        "              j -= 1\n",
        "  return arr"
      ],
      "metadata": {
        "id": "YeOs5JG2oOL1"
      },
      "execution_count": null,
      "outputs": []
    },
    {
      "cell_type": "code",
      "source": [
        "binSort([1,0,0,0,1,0,0,0], 8)"
      ],
      "metadata": {
        "colab": {
          "base_uri": "https://localhost:8080/"
        },
        "id": "Uq-O_YzGrEJo",
        "outputId": "35e49ab1-0a1e-4cd9-bf72-ce40450e881f"
      },
      "execution_count": null,
      "outputs": [
        {
          "output_type": "stream",
          "name": "stdout",
          "text": [
            "0 7\n",
            "1 6\n",
            "2 6\n",
            "3 6\n",
            "4 6\n",
            "5 5\n"
          ]
        },
        {
          "output_type": "execute_result",
          "data": {
            "text/plain": [
              "[0, 0, 0, 0, 0, 0, 1, 1]"
            ]
          },
          "metadata": {},
          "execution_count": 26
        }
      ]
    },
    {
      "cell_type": "markdown",
      "source": [
        "# Searching a number"
      ],
      "metadata": {
        "id": "uMX_dsh7riLu"
      }
    },
    {
      "cell_type": "code",
      "source": [
        "def searchNumber(arr, x):\n",
        "  for i in range(len(arr)-1):\n",
        "    if arr[i] == x:\n",
        "      return f\"Number{x} found at index {i}\"\n",
        "  return f\"Number {x} not found.\""
      ],
      "metadata": {
        "id": "ot4g0sU7rZl3"
      },
      "execution_count": null,
      "outputs": []
    },
    {
      "cell_type": "code",
      "source": [
        "searchNumber([2,3,4,5,6,7],5)"
      ],
      "metadata": {
        "colab": {
          "base_uri": "https://localhost:8080/",
          "height": 35
        },
        "id": "PWUXJ-LCsfQG",
        "outputId": "2c7a6e6b-102f-41c8-ba04-818cf1f4a1bf"
      },
      "execution_count": null,
      "outputs": [
        {
          "output_type": "execute_result",
          "data": {
            "text/plain": [
              "'Number5 found at index 3'"
            ],
            "application/vnd.google.colaboratory.intrinsic+json": {
              "type": "string"
            }
          },
          "metadata": {},
          "execution_count": 17
        }
      ]
    },
    {
      "cell_type": "code",
      "source": [],
      "metadata": {
        "id": "iGtbNVZrskFR"
      },
      "execution_count": null,
      "outputs": []
    }
  ]
}