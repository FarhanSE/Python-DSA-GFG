{
  "nbformat": 4,
  "nbformat_minor": 0,
  "metadata": {
    "colab": {
      "provenance": [],
      "authorship_tag": "ABX9TyOup+DqRaZ6W+FK8I8W3Ado",
      "include_colab_link": true
    },
    "kernelspec": {
      "name": "python3",
      "display_name": "Python 3"
    },
    "language_info": {
      "name": "python"
    }
  },
  "cells": [
    {
      "cell_type": "markdown",
      "metadata": {
        "id": "view-in-github",
        "colab_type": "text"
      },
      "source": [
        "<a href=\"https://colab.research.google.com/github/FarhanSE/Python-DSA-GFG/blob/master/Amna's_Class_8.ipynb\" target=\"_parent\"><img src=\"https://colab.research.google.com/assets/colab-badge.svg\" alt=\"Open In Colab\"/></a>"
      ]
    },
    {
      "cell_type": "markdown",
      "source": [
        "# Create Linked List"
      ],
      "metadata": {
        "id": "X336NYv2lLwR"
      }
    },
    {
      "cell_type": "code",
      "source": [
        "class Node:\n",
        "    def __init__(self,data):\n",
        "        self.data=data\n",
        "        self.next=None\n",
        "\n",
        "class Solution:\n",
        "    #Function to insert a node at the beginning of the linked list.\n",
        "    def insertAtBegining(self,head,x):\n",
        "        \n",
        "        new_node = Node(x)\n",
        "        new_node.next = head\n",
        "        return new_node\n",
        "    \n",
        "    #Function to insert a node at the end of the linked list.\n",
        "    def insertAtEnd(self,head,x):\n",
        "        \n",
        "        new_node = Node(x)\n",
        "        \n",
        "        if head == None:\n",
        "            \n",
        "            return new_node\n",
        "        \n",
        "        else:\n",
        "            \n",
        "            tmp = head\n",
        "            while (tmp.next):\n",
        "                print(tmp.next)\n",
        "                print(tmp.data)\n",
        "                tmp = tmp.next\n",
        "            print(tmp.data)\n",
        "            tmp.next = new_node\n",
        "            \n",
        "            return head\n",
        "\n",
        "\n",
        "\n"
      ],
      "metadata": {
        "id": "bugnr1tWlKIG"
      },
      "execution_count": null,
      "outputs": []
    },
    {
      "cell_type": "markdown",
      "source": [
        "# Check If Circular Linked List"
      ],
      "metadata": {
        "id": "8Cb0nWnSkyKr"
      }
    },
    {
      "cell_type": "code",
      "execution_count": null,
      "metadata": {
        "id": "ShbrU6q7kqja"
      },
      "outputs": [],
      "source": [
        "def isCircular(head):\n",
        "    # Code here\n",
        "    slow = head\n",
        "    fast = head\n",
        "    while slow and fast and fast.next:\n",
        "        slow = slow.next\n",
        "        fast = fast.next.next\n",
        "        if slow == fast:\n",
        "            return 1\n",
        "    return 0"
      ]
    },
    {
      "cell_type": "code",
      "source": [],
      "metadata": {
        "id": "6T_rbdWnkvo_"
      },
      "execution_count": null,
      "outputs": []
    }
  ]
}