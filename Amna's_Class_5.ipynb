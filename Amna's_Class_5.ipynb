{
  "nbformat": 4,
  "nbformat_minor": 0,
  "metadata": {
    "colab": {
      "provenance": [],
      "authorship_tag": "ABX9TyNRDuIZ+6fIFJQZoPKwmb1N",
      "include_colab_link": true
    },
    "kernelspec": {
      "name": "python3",
      "display_name": "Python 3"
    },
    "language_info": {
      "name": "python"
    }
  },
  "cells": [
    {
      "cell_type": "markdown",
      "metadata": {
        "id": "view-in-github",
        "colab_type": "text"
      },
      "source": [
        "<a href=\"https://colab.research.google.com/github/FarhanSE/Python-DSA-GFG/blob/master/Amna's_Class_5.ipynb\" target=\"_parent\"><img src=\"https://colab.research.google.com/assets/colab-badge.svg\" alt=\"Open In Colab\"/></a>"
      ]
    },
    {
      "cell_type": "markdown",
      "source": [
        "# Implement stack using array"
      ],
      "metadata": {
        "id": "rcfZCWSLIHfO"
      }
    },
    {
      "cell_type": "markdown",
      "source": [
        "Stack is a linear data structure which follows a particular order in which the operations are performed. The order may be LIFO."
      ],
      "metadata": {
        "id": "wP3se5BOINn5"
      }
    },
    {
      "cell_type": "code",
      "source": [
        "# Magic methods __str__ , self"
      ],
      "metadata": {
        "id": "YvviWkSJ-CxN"
      },
      "execution_count": null,
      "outputs": []
    },
    {
      "cell_type": "code",
      "execution_count": null,
      "metadata": {
        "id": "jxsw12j7H_7P"
      },
      "outputs": [],
      "source": [
        "class stack:\n",
        "  def __init__(self):\n",
        "    self.mystack = []\n",
        "  def push(self, data):\n",
        "    self.mystack.append(data)\n",
        "    return self.mystack\n",
        "  def pop(self):\n",
        "    poped = self.mystack.pop()\n",
        "    return poped"
      ]
    },
    {
      "cell_type": "code",
      "source": [
        "stack_obj = stack()"
      ],
      "metadata": {
        "id": "UifHxsexJXRd"
      },
      "execution_count": null,
      "outputs": []
    },
    {
      "cell_type": "code",
      "source": [
        "stack_obj"
      ],
      "metadata": {
        "colab": {
          "base_uri": "https://localhost:8080/"
        },
        "id": "Idtn_WXFKybW",
        "outputId": "0b86e887-3ce4-419e-b37b-a197ac063582"
      },
      "execution_count": null,
      "outputs": [
        {
          "output_type": "execute_result",
          "data": {
            "text/plain": [
              "<__main__.stack at 0x7f86eee199d0>"
            ]
          },
          "metadata": {},
          "execution_count": 3
        }
      ]
    },
    {
      "cell_type": "code",
      "source": [
        "stack_obj.mystack"
      ],
      "metadata": {
        "colab": {
          "base_uri": "https://localhost:8080/"
        },
        "id": "-lQ56XjAK68P",
        "outputId": "2eddbbde-62a4-4c2f-ebf1-13aef23150f8"
      },
      "execution_count": null,
      "outputs": [
        {
          "output_type": "execute_result",
          "data": {
            "text/plain": [
              "[]"
            ]
          },
          "metadata": {},
          "execution_count": 4
        }
      ]
    },
    {
      "cell_type": "code",
      "source": [
        "stack_obj.push(5)"
      ],
      "metadata": {
        "colab": {
          "base_uri": "https://localhost:8080/"
        },
        "id": "iy64nuiyJlrb",
        "outputId": "2b62b53b-81e6-47b8-c3ce-6c7c005a5fad"
      },
      "execution_count": null,
      "outputs": [
        {
          "output_type": "execute_result",
          "data": {
            "text/plain": [
              "[5]"
            ]
          },
          "metadata": {},
          "execution_count": 5
        }
      ]
    },
    {
      "cell_type": "code",
      "source": [
        "stack_obj.mystack"
      ],
      "metadata": {
        "colab": {
          "base_uri": "https://localhost:8080/"
        },
        "id": "LhkUcSwU_qc8",
        "outputId": "3015100c-474a-4990-a16b-593fb903827a"
      },
      "execution_count": null,
      "outputs": [
        {
          "output_type": "execute_result",
          "data": {
            "text/plain": [
              "[5]"
            ]
          },
          "metadata": {},
          "execution_count": 6
        }
      ]
    },
    {
      "cell_type": "code",
      "source": [
        "obj_1 = stack()"
      ],
      "metadata": {
        "id": "k3Tp1D1I_sqy"
      },
      "execution_count": null,
      "outputs": []
    },
    {
      "cell_type": "code",
      "source": [
        "obj_1.mystack"
      ],
      "metadata": {
        "colab": {
          "base_uri": "https://localhost:8080/"
        },
        "id": "Ohut37tE_xkZ",
        "outputId": "0249d7ae-4704-42a3-8cc5-6f565a5d8098"
      },
      "execution_count": null,
      "outputs": [
        {
          "output_type": "execute_result",
          "data": {
            "text/plain": [
              "[]"
            ]
          },
          "metadata": {},
          "execution_count": 10
        }
      ]
    },
    {
      "cell_type": "code",
      "source": [
        "obj_1.push(2)"
      ],
      "metadata": {
        "colab": {
          "base_uri": "https://localhost:8080/"
        },
        "id": "uEWzUL1j_96a",
        "outputId": "8dc5655f-6e9e-4eeb-f988-dd78cead36f0"
      },
      "execution_count": null,
      "outputs": [
        {
          "output_type": "execute_result",
          "data": {
            "text/plain": [
              "[2]"
            ]
          },
          "metadata": {},
          "execution_count": 11
        }
      ]
    },
    {
      "cell_type": "code",
      "source": [
        "stack_obj.mystack"
      ],
      "metadata": {
        "colab": {
          "base_uri": "https://localhost:8080/"
        },
        "id": "whdY0-jBABvw",
        "outputId": "0d4879c2-d41f-49ce-d978-d853c3e50073"
      },
      "execution_count": null,
      "outputs": [
        {
          "output_type": "execute_result",
          "data": {
            "text/plain": [
              "[5]"
            ]
          },
          "metadata": {},
          "execution_count": 12
        }
      ]
    },
    {
      "cell_type": "code",
      "source": [
        "stack_obj.push(10)"
      ],
      "metadata": {
        "colab": {
          "base_uri": "https://localhost:8080/"
        },
        "id": "fbhxGS-BJrBg",
        "outputId": "2226d4b9-a3f1-49fc-e593-01da39b30a1f"
      },
      "execution_count": null,
      "outputs": [
        {
          "output_type": "execute_result",
          "data": {
            "text/plain": [
              "[5, 10]"
            ]
          },
          "metadata": {},
          "execution_count": 13
        }
      ]
    },
    {
      "cell_type": "code",
      "source": [
        "stack_obj.pop()"
      ],
      "metadata": {
        "colab": {
          "base_uri": "https://localhost:8080/"
        },
        "id": "gUQynrVCJ_6L",
        "outputId": "3766f9b2-cc87-4992-81f1-d8b9a7fd1b39"
      },
      "execution_count": null,
      "outputs": [
        {
          "output_type": "execute_result",
          "data": {
            "text/plain": [
              "10"
            ]
          },
          "metadata": {},
          "execution_count": 14
        }
      ]
    },
    {
      "cell_type": "code",
      "source": [
        "stack_obj.mystack"
      ],
      "metadata": {
        "colab": {
          "base_uri": "https://localhost:8080/"
        },
        "id": "hsGVXy2jKD5Z",
        "outputId": "4460b846-0b0b-49f0-df61-2d2055d09468"
      },
      "execution_count": null,
      "outputs": [
        {
          "output_type": "execute_result",
          "data": {
            "text/plain": [
              "[5]"
            ]
          },
          "metadata": {},
          "execution_count": 15
        }
      ]
    },
    {
      "cell_type": "code",
      "source": [
        "stack_obj.pop()"
      ],
      "metadata": {
        "colab": {
          "base_uri": "https://localhost:8080/"
        },
        "id": "IIMvtCJHKmko",
        "outputId": "807021c2-e886-42bb-9b58-137e62373ab0"
      },
      "execution_count": null,
      "outputs": [
        {
          "output_type": "execute_result",
          "data": {
            "text/plain": [
              "5"
            ]
          },
          "metadata": {},
          "execution_count": 16
        }
      ]
    },
    {
      "cell_type": "code",
      "source": [
        "stack_obj.mystack"
      ],
      "metadata": {
        "colab": {
          "base_uri": "https://localhost:8080/"
        },
        "id": "rZt_UOboKqF3",
        "outputId": "045d7a58-fbdd-4f26-bb30-a013c337b702"
      },
      "execution_count": null,
      "outputs": [
        {
          "output_type": "execute_result",
          "data": {
            "text/plain": [
              "[]"
            ]
          },
          "metadata": {},
          "execution_count": 17
        }
      ]
    },
    {
      "cell_type": "markdown",
      "source": [
        "# Number of occurrence"
      ],
      "metadata": {
        "id": "99SywRtMLOSq"
      }
    },
    {
      "cell_type": "code",
      "source": [
        "def countAccurence(arr, x):\n",
        "  count = 0\n",
        "  for i in range(len(arr)):\n",
        "    if x == arr[i]:\n",
        "      count += 1\n",
        "  return count"
      ],
      "metadata": {
        "id": "iFJrhrxLKtp8"
      },
      "execution_count": null,
      "outputs": []
    },
    {
      "cell_type": "code",
      "source": [
        "countAccurence([2,3,4,1,2,3,6,77,88,98,2,4,2,2], 77)"
      ],
      "metadata": {
        "colab": {
          "base_uri": "https://localhost:8080/"
        },
        "id": "V0K-jAPyMTLA",
        "outputId": "17c6c354-597c-46bd-a13f-dd962f9ea892"
      },
      "execution_count": null,
      "outputs": [
        {
          "output_type": "execute_result",
          "data": {
            "text/plain": [
              "1"
            ]
          },
          "metadata": {},
          "execution_count": 19
        }
      ]
    },
    {
      "cell_type": "markdown",
      "source": [
        "# First element to occur k times"
      ],
      "metadata": {
        "id": "1-R572gsM2-g"
      }
    },
    {
      "cell_type": "code",
      "source": [
        "def firstAccour(arr, k):\n",
        "  accur = dict()\n",
        "  for i in range(len(arr)):\n",
        "    if arr[i] in accur.keys():\n",
        "        accur[arr[i]] += 1\n",
        "    else:\n",
        "      accur[arr[i]] = 1\n",
        "    if accur[arr[i]] == k:\n",
        "      return arr[i]\n"
      ],
      "metadata": {
        "id": "QqZoRZirMbum"
      },
      "execution_count": null,
      "outputs": []
    },
    {
      "cell_type": "code",
      "source": [
        "firstAccour([2,3,4,3,3,5,2,6,2,3], 3)"
      ],
      "metadata": {
        "colab": {
          "base_uri": "https://localhost:8080/"
        },
        "id": "rlsy6mIsSfkz",
        "outputId": "e6539587-aa4c-4d0e-f74f-1b90888ee7d6"
      },
      "execution_count": null,
      "outputs": [
        {
          "output_type": "execute_result",
          "data": {
            "text/plain": [
              "3"
            ]
          },
          "metadata": {},
          "execution_count": 21
        }
      ]
    },
    {
      "cell_type": "code",
      "source": [],
      "metadata": {
        "id": "JuoIH2pnSpRd"
      },
      "execution_count": null,
      "outputs": []
    }
  ]
}